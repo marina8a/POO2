{
  "nbformat": 4,
  "nbformat_minor": 0,
  "metadata": {
    "colab": {
      "provenance": []
    },
    "kernelspec": {
      "name": "python3",
      "display_name": "Python 3"
    },
    "language_info": {
      "name": "python"
    }
  },
  "cells": [
    {
      "cell_type": "code",
      "execution_count": 1,
      "metadata": {
        "id": "o4Ce9dmAhsso"
      },
      "outputs": [],
      "source": [
        "import math\n",
        "\n",
        "class Figura:\n",
        "    def __init__(self, nombre):\n",
        "        self.nombre = nombre\n",
        "        self.area = None\n",
        "        self.perimetro = None\n",
        "\n",
        "    def calcular_area(self):\n",
        "        pass\n",
        "    def calcular_perimetro(self):\n",
        "        pass\n",
        "    def mostrarInfo(self):\n",
        "        self.calcular_area()\n",
        "        self.calcular_perimetro()\n",
        "        print(f\"Nombre de la figura {self.nombre}\")\n",
        "        print(f\"Área de la figura {self.area}\")\n",
        "        print(f\"Perímetro de la figura {self.perimetro}\")\n",
        "\n",
        "class Circulo(Figura):\n",
        "    def __init__(self, nombre, radio):\n",
        "        super().__init__(nombre)\n",
        "        self.radio = radio\n",
        "\n",
        "    def calcular_area(self):\n",
        "        return math.pi * self.radio**2\n",
        "\n",
        "    def calcular_perimetro(self):\n",
        "        return 2 * math.pi * self.radio\n",
        "\n",
        "class Rectangulo(Figura):\n",
        "\n",
        "    def __init_(self, longitud, base):\n",
        "        self.longitud = longitud\n",
        "        self.base = base\n",
        "    def calcular_area(self):\n",
        "        return self.longitud * self.base\n",
        "\n",
        "    def calcular_perimetro(self):\n",
        "        return 2 * (self.longitud + self.base)\n",
        "\n",
        "class Triangulo(Figura):\n",
        "    def __init__(self, base, altura, lado1, lado2, lado3):\n",
        "        self.base = base\n",
        "        self.altura = altura\n",
        "        self.lado1 = lado1\n",
        "        self.lado2 = lado2\n",
        "        self.lado3 = lado3\n",
        "\n",
        "    def calcular_area(self):\n",
        "        return 0.5 * self.base * self.altura\n",
        "\n",
        "    def calcular_perimetro(self):\n",
        "        return self.lado1 + self.lado2 + self.lado3"
      ]
    },
    {
      "cell_type": "code",
      "source": [
        "fig_1 = Figura(\"Circulo\")\n",
        "circulo = Circulo(\"Circulo\", 2)\n",
        "circulo.calcular_area()"
      ],
      "metadata": {
        "colab": {
          "base_uri": "https://localhost:8080/"
        },
        "id": "YV-VnFGgiBx5",
        "outputId": "3e96b6da-2921-4a41-8206-f0761ff0ff5a"
      },
      "execution_count": 3,
      "outputs": [
        {
          "output_type": "execute_result",
          "data": {
            "text/plain": [
              "12.566370614359172"
            ]
          },
          "metadata": {},
          "execution_count": 3
        }
      ]
    },
    {
      "cell_type": "code",
      "source": [],
      "metadata": {
        "id": "rbpUN4N1iwWV"
      },
      "execution_count": null,
      "outputs": []
    }
  ]
}