{
 "cells": [
  {
   "cell_type": "markdown",
   "id": "fcda525c-bc54-4981-8b7d-ee016cf7f915",
   "metadata": {},
   "source": [
    "# Python Tkinter"
   ]
  },
  {
   "cell_type": "markdown",
   "id": "1cb916a8-782d-4f9d-ab81-92f967deebbc",
   "metadata": {},
   "source": [
    "Tkinter es la biblioteca estándar de Python para crear interfaces gráficas de usuario (GUI). Proporciona una amplia variedad de widgets y herramientas que facilitan el desarrollo de aplicaciones de escritorio interactivas.​"
   ]
  },
  {
   "cell_type": "markdown",
   "id": "4c9bda79-a61d-4949-9d34-2932508527f9",
   "metadata": {},
   "source": [
    "## Principales widgets de Tkinter:"
   ]
  },
  {
   "cell_type": "markdown",
   "id": "ecc9c65b-e467-4be7-8f8a-cf0ce4ef0d6c",
   "metadata": {},
   "source": [
    "### 1. Label\n",
    "Crea un mensaje en la pantalla"
   ]
  },
  {
   "cell_type": "code",
   "execution_count": 6,
   "id": "22b69300-ef7e-4a47-888d-de416d6d5178",
   "metadata": {},
   "outputs": [],
   "source": [
    "from tkinter import *\n",
    "root = Tk()\n",
    "w = Label(root, text='GeeksForGeeks.org!')\n",
    "w.pack()\n",
    "root.mainloop()"
   ]
  },
  {
   "cell_type": "markdown",
   "id": "c0896189-6172-4fa2-95aa-fff0afa34ce3",
   "metadata": {},
   "source": [
    "### 2. Button\n",
    "Al hacer clic, imprime un mensaje en la consola."
   ]
  },
  {
   "cell_type": "code",
   "execution_count": 14,
   "id": "69024a9b-3e02-4f3a-a4ef-b842abc2bbed",
   "metadata": {},
   "outputs": [],
   "source": [
    "import tkinter as tk\n",
    "\n",
    "r = tk.Tk()\n",
    "r.title('Counting Seconds')\n",
    "button = tk.Button(r, text='Stop', width=25, command=r.destroy)\n",
    "button.pack()\n",
    "r.mainloop()"
   ]
  },
  {
   "cell_type": "markdown",
   "id": "b904726b-4033-41e6-8155-c195e55fc4ea",
   "metadata": {},
   "source": [
    "### 3. Entry\n",
    "Un cuadro donde el usuario puede escribir."
   ]
  },
  {
   "cell_type": "code",
   "execution_count": 17,
   "id": "98bacce0-830b-4972-99bf-06309d861453",
   "metadata": {},
   "outputs": [],
   "source": [
    "from tkinter import *\n",
    "\n",
    "master = Tk()\n",
    "Label(master, text='First Name').grid(row=0)\n",
    "Label(master, text='Last Name').grid(row=1)\n",
    "e1 = Entry(master)\n",
    "e2 = Entry(master)\n",
    "e1.grid(row=0, column=1)\n",
    "e2.grid(row=1, column=1)\n",
    "mainloop()"
   ]
  },
  {
   "cell_type": "markdown",
   "id": "1f4e2ef6-a5a1-4945-9129-e33eb8f9b8c3",
   "metadata": {},
   "source": [
    "### 4. CheckButton\n",
    "Permite seleccionar o deseleccionar una opción."
   ]
  },
  {
   "cell_type": "code",
   "execution_count": 21,
   "id": "09b654d5-f9f1-43d3-923a-376725d18daf",
   "metadata": {},
   "outputs": [],
   "source": [
    "from tkinter import *\n",
    "\n",
    "master = Tk()\n",
    "var1 = IntVar()\n",
    "Checkbutton(master, text='male', variable=var1).grid(row=0, sticky=W)\n",
    "var2 = IntVar()\n",
    "Checkbutton(master, text='female', variable=var2).grid(row=1, sticky=W)\n",
    "mainloop()"
   ]
  },
  {
   "cell_type": "markdown",
   "id": "616091d2-b78e-43db-bdf6-f4bfc2216820",
   "metadata": {},
   "source": [
    "### 5. RadioButton\n",
    "Permite elegir entre varias opciones."
   ]
  },
  {
   "cell_type": "code",
   "execution_count": 24,
   "id": "c2e4a1f2-b38a-4fe8-b937-ea1220ad6f4e",
   "metadata": {},
   "outputs": [],
   "source": [
    "from tkinter import *\n",
    "\n",
    "root = Tk()\n",
    "v = IntVar()\n",
    "Radiobutton(root, text='GfG', variable=v, value=1).pack(anchor=W)\n",
    "Radiobutton(root, text='MIT', variable=v, value=2).pack(anchor=W)\n",
    "mainloop()"
   ]
  },
  {
   "cell_type": "markdown",
   "id": "a0dff95e-c1e9-4485-bc12-1d9559a9bb25",
   "metadata": {},
   "source": [
    "### 6. ListBox\n",
    "Muestra una lista de elementos seleccionables."
   ]
  },
  {
   "cell_type": "code",
   "execution_count": 29,
   "id": "fbaeb410-47c3-4ded-a3b4-fe4f6ab49d20",
   "metadata": {},
   "outputs": [],
   "source": [
    "import tkinter as tk\n",
    "\n",
    "root = tk.Tk()\n",
    "listbox = tk.Listbox(root)\n",
    "listbox.insert(1, \"Elemento 1\")\n",
    "listbox.insert(2, \"Elemento 2\")\n",
    "listbox.insert(3, \"Elemento 3\")\n",
    "listbox.pack()\n",
    "root.mainloop()"
   ]
  },
  {
   "cell_type": "markdown",
   "id": "2bd75705-86b9-4000-a848-3e23c4d11c5f",
   "metadata": {},
   "source": [
    "### 7. Scrollbar\n",
    "Para moverse en una lista grande."
   ]
  },
  {
   "cell_type": "code",
   "execution_count": 33,
   "id": "34e68d63-a55e-43c8-ac62-9bdbf93f90e6",
   "metadata": {},
   "outputs": [],
   "source": [
    "from tkinter import *\n",
    "\n",
    "root = Tk()\n",
    "scrollbar = Scrollbar(root)\n",
    "scrollbar.pack(side=RIGHT, fill=Y)\n",
    "mylist = Listbox(root, yscrollcommand=scrollbar.set)\n",
    "\n",
    "for line in range(100):\n",
    "    mylist.insert(END, 'This is line number' + str(line))\n",
    "    \n",
    "mylist.pack(side=LEFT, fill=BOTH)\n",
    "scrollbar.config(command=mylist.yview)\n",
    "mainloop()"
   ]
  },
  {
   "cell_type": "markdown",
   "id": "3f1dbb7a-daeb-4be3-aa18-83d962078bec",
   "metadata": {},
   "source": [
    "### 8. Menu\n",
    "Crea un menú desplegable en la ventana."
   ]
  },
  {
   "cell_type": "code",
   "execution_count": 36,
   "id": "1cce81e1-d2e5-4d87-b78a-df32ee6ee7c7",
   "metadata": {},
   "outputs": [],
   "source": [
    "from tkinter import *\n",
    "\n",
    "root = Tk()\n",
    "menu = Menu(root)\n",
    "root.config(menu=menu)\n",
    "filemenu = Menu(menu)\n",
    "menu.add_cascade(label='File', menu=filemenu)\n",
    "filemenu.add_command(label='New')\n",
    "filemenu.add_command(label='Open...')\n",
    "filemenu.add_separator()\n",
    "filemenu.add_command(label='Exit', command=root.quit)\n",
    "helpmenu = Menu(menu)\n",
    "menu.add_cascade(label='Help', menu=helpmenu)\n",
    "helpmenu.add_command(label='About')\n",
    "mainloop()"
   ]
  },
  {
   "cell_type": "markdown",
   "id": "7d29e66a-3830-47a5-97b3-97c9c65a3ba2",
   "metadata": {},
   "source": [
    "### 9. Combobox\n",
    "Permite seleccionar un elemento de una lista."
   ]
  },
  {
   "cell_type": "code",
   "execution_count": 39,
   "id": "99a6913f-b3ce-41b3-a5bd-1c882bb36d2a",
   "metadata": {},
   "outputs": [],
   "source": [
    "import tkinter as tk\n",
    "from tkinter import ttk\n",
    "\n",
    "def select(event):\n",
    "    selected_item = combo_box.get()\n",
    "    label.config(text=\"Selected Item: \" + selected_item)\n",
    "\n",
    "root = tk.Tk()\n",
    "root.title(\"Combobox Example\")\n",
    "\n",
    "# Create a label\n",
    "label = tk.Label(root, text=\"Selected Item: \")\n",
    "label.pack(pady=10)\n",
    "\n",
    "# Create a Combobox widget\n",
    "combo_box = ttk.Combobox(root, values=[\"Option 1\", \"Option 2\", \"Option 3\"])\n",
    "combo_box.pack(pady=5)\n",
    "\n",
    "# Set default value\n",
    "combo_box.set(\"Option 1\")\n",
    "\n",
    "# Bind event to selection\n",
    "combo_box.bind(\"<<ComboboxSelected>>\", select)\n",
    "\n",
    "root.mainloop()"
   ]
  }
 ],
 "metadata": {
  "kernelspec": {
   "display_name": "Python [conda env:base] *",
   "language": "python",
   "name": "conda-base-py"
  },
  "language_info": {
   "codemirror_mode": {
    "name": "ipython",
    "version": 3
   },
   "file_extension": ".py",
   "mimetype": "text/x-python",
   "name": "python",
   "nbconvert_exporter": "python",
   "pygments_lexer": "ipython3",
   "version": "3.12.7"
  }
 },
 "nbformat": 4,
 "nbformat_minor": 5
}
