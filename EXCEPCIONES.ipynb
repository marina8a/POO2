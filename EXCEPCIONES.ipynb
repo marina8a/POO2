{
  "nbformat": 4,
  "nbformat_minor": 0,
  "metadata": {
    "colab": {
      "provenance": []
    },
    "kernelspec": {
      "name": "python3",
      "display_name": "Python 3"
    },
    "language_info": {
      "name": "python"
    }
  },
  "cells": [
    {
      "cell_type": "markdown",
      "source": [
        "# Manejo de excepciones\n",
        "\n",
        "Las funciones a usar son:\n",
        "\n",
        "\n",
        "\n",
        "```\n",
        "# try:\n",
        "    bloque de condición\n",
        "  except\n",
        "    bloque de excepciones\n",
        "```"
      ],
      "metadata": {
        "id": "uEMl9dxnBwll"
      }
    },
    {
      "cell_type": "markdown",
      "source": [
        "Vamos a definir una función que se llama `assert`."
      ],
      "metadata": {
        "id": "KQOQaTwMB_Q3"
      }
    },
    {
      "cell_type": "code",
      "source": [
        "def division(a,b):\n",
        "  return a/b"
      ],
      "metadata": {
        "id": "niayug8YCH5v"
      },
      "execution_count": null,
      "outputs": []
    },
    {
      "cell_type": "code",
      "source": [
        "division(5,0)"
      ],
      "metadata": {
        "colab": {
          "base_uri": "https://localhost:8080/",
          "height": 211
        },
        "id": "kFtoEoAcC_lv",
        "outputId": "94217d16-d0cd-492b-ffb4-619fddafc27f"
      },
      "execution_count": null,
      "outputs": [
        {
          "output_type": "error",
          "ename": "ZeroDivisionError",
          "evalue": "division by zero",
          "traceback": [
            "\u001b[0;31m---------------------------------------------------------------------------\u001b[0m",
            "\u001b[0;31mZeroDivisionError\u001b[0m                         Traceback (most recent call last)",
            "\u001b[0;32m<ipython-input-2-41e6f43c7f26>\u001b[0m in \u001b[0;36m<cell line: 0>\u001b[0;34m()\u001b[0m\n\u001b[0;32m----> 1\u001b[0;31m \u001b[0mdivision\u001b[0m\u001b[0;34m(\u001b[0m\u001b[0;36m5\u001b[0m\u001b[0;34m,\u001b[0m\u001b[0;36m0\u001b[0m\u001b[0;34m)\u001b[0m\u001b[0;34m\u001b[0m\u001b[0;34m\u001b[0m\u001b[0m\n\u001b[0m",
            "\u001b[0;32m<ipython-input-1-5117be529140>\u001b[0m in \u001b[0;36mdivision\u001b[0;34m(a, b)\u001b[0m\n\u001b[1;32m      1\u001b[0m \u001b[0;32mdef\u001b[0m \u001b[0mdivision\u001b[0m\u001b[0;34m(\u001b[0m\u001b[0ma\u001b[0m\u001b[0;34m,\u001b[0m\u001b[0mb\u001b[0m\u001b[0;34m)\u001b[0m\u001b[0;34m:\u001b[0m\u001b[0;34m\u001b[0m\u001b[0;34m\u001b[0m\u001b[0m\n\u001b[0;32m----> 2\u001b[0;31m   \u001b[0;32mreturn\u001b[0m \u001b[0ma\u001b[0m\u001b[0;34m/\u001b[0m\u001b[0mb\u001b[0m\u001b[0;34m\u001b[0m\u001b[0;34m\u001b[0m\u001b[0m\n\u001b[0m",
            "\u001b[0;31mZeroDivisionError\u001b[0m: division by zero"
          ]
        }
      ]
    },
    {
      "cell_type": "code",
      "source": [
        "# EJEMPLO 1\n",
        "\n",
        "a = 5\n",
        "\n",
        "b = 0\n",
        "\n",
        "try:\n",
        "  c = a/b\n",
        "except ZeroDivisionError:\n",
        "  print(\"No se puede dividir por cero\")\n"
      ],
      "metadata": {
        "colab": {
          "base_uri": "https://localhost:8080/"
        },
        "id": "Djwk_-WGCypE",
        "outputId": "997679b5-e432-477d-acc7-7a5a543591b2"
      },
      "execution_count": null,
      "outputs": [
        {
          "output_type": "stream",
          "name": "stdout",
          "text": [
            "No se puede dividir por cero\n"
          ]
        }
      ]
    },
    {
      "cell_type": "code",
      "source": [
        "try:\n",
        "  d = 2 + \"Ceci\""
      ],
      "metadata": {
        "colab": {
          "base_uri": "https://localhost:8080/",
          "height": 106
        },
        "id": "tPMDMoMXD0IA",
        "outputId": "9a92f440-3e5b-4b45-b259-01b4b105788f"
      },
      "execution_count": null,
      "outputs": [
        {
          "output_type": "error",
          "ename": "SyntaxError",
          "evalue": "incomplete input (<ipython-input-4-2d940dc3e9c4>, line 4)",
          "traceback": [
            "\u001b[0;36m  File \u001b[0;32m\"<ipython-input-4-2d940dc3e9c4>\"\u001b[0;36m, line \u001b[0;32m4\u001b[0m\n\u001b[0;31m    d = 2 + \"Ceci\"\u001b[0m\n\u001b[0m                  ^\u001b[0m\n\u001b[0;31mSyntaxError\u001b[0m\u001b[0;31m:\u001b[0m incomplete input\n"
          ]
        }
      ]
    },
    {
      "cell_type": "code",
      "source": [
        "# EJEMPLO 2\n",
        "try:\n",
        "  d = 2 + \"Ceci\"\n",
        "except TypeError:\n",
        "  print(\"No se puede sumar un entero con un string\")"
      ],
      "metadata": {
        "colab": {
          "base_uri": "https://localhost:8080/"
        },
        "id": "XWrWyZOeFLw1",
        "outputId": "c5523425-511c-4c2f-cc36-6734477516a4"
      },
      "execution_count": null,
      "outputs": [
        {
          "output_type": "stream",
          "name": "stdout",
          "text": [
            "No se puede sumar un entero con un string\n"
          ]
        }
      ]
    },
    {
      "cell_type": "code",
      "source": [
        "# Redefinir la definición de división\n",
        "def division(a,b):\n",
        "  try:\n",
        "    c = a/b\n",
        "    print(\"El resultado de la división es:\", c)\n",
        "  except ZeroDivisionError:\n",
        "    print(\"No se puede dividir por cero\")\n",
        "  except TypeError:\n",
        "    print(\"No se puede dividir un entero con un string\")\n"
      ],
      "metadata": {
        "id": "kBSfPv4LFm8q"
      },
      "execution_count": null,
      "outputs": []
    },
    {
      "cell_type": "code",
      "source": [
        "division (5,0)"
      ],
      "metadata": {
        "colab": {
          "base_uri": "https://localhost:8080/"
        },
        "id": "wGB6fX3UHBEp",
        "outputId": "1608f1fe-f058-4191-f010-2be29b947820"
      },
      "execution_count": null,
      "outputs": [
        {
          "output_type": "stream",
          "name": "stdout",
          "text": [
            "No se puede dividir por cero\n"
          ]
        }
      ]
    },
    {
      "cell_type": "code",
      "source": [
        "division (\"pan\", 5)"
      ],
      "metadata": {
        "colab": {
          "base_uri": "https://localhost:8080/"
        },
        "id": "LrjlxYutHGEB",
        "outputId": "48c638a9-c0b2-407e-a88a-f1885ddef0bf"
      },
      "execution_count": null,
      "outputs": [
        {
          "output_type": "stream",
          "name": "stdout",
          "text": [
            "No se puede dividir un entero con un string\n"
          ]
        }
      ]
    },
    {
      "cell_type": "code",
      "source": [
        "division (12345,543)"
      ],
      "metadata": {
        "colab": {
          "base_uri": "https://localhost:8080/"
        },
        "id": "d6UGb4v7Hqj1",
        "outputId": "835a3593-a978-468e-f447-c049c1d20309"
      },
      "execution_count": null,
      "outputs": [
        {
          "output_type": "stream",
          "name": "stdout",
          "text": [
            "El resultado de la división es: 22.734806629834253\n"
          ]
        }
      ]
    },
    {
      "cell_type": "markdown",
      "source": [
        "## La función `assert`"
      ],
      "metadata": {
        "id": "YtoW7riPHy8H"
      }
    },
    {
      "cell_type": "code",
      "source": [
        "assert (1==2)"
      ],
      "metadata": {
        "colab": {
          "base_uri": "https://localhost:8080/",
          "height": 141
        },
        "id": "y8sB6ywdH5cz",
        "outputId": "72b67334-347a-4075-89c9-0ea4293e21e5"
      },
      "execution_count": null,
      "outputs": [
        {
          "output_type": "error",
          "ename": "AssertionError",
          "evalue": "",
          "traceback": [
            "\u001b[0;31m---------------------------------------------------------------------------\u001b[0m",
            "\u001b[0;31mAssertionError\u001b[0m                            Traceback (most recent call last)",
            "\u001b[0;32m<ipython-input-14-b5ea04f4f930>\u001b[0m in \u001b[0;36m<cell line: 0>\u001b[0;34m()\u001b[0m\n\u001b[0;32m----> 1\u001b[0;31m \u001b[0;32massert\u001b[0m \u001b[0;34m(\u001b[0m\u001b[0;36m1\u001b[0m\u001b[0;34m==\u001b[0m\u001b[0;36m2\u001b[0m\u001b[0;34m)\u001b[0m\u001b[0;34m\u001b[0m\u001b[0;34m\u001b[0m\u001b[0m\n\u001b[0m",
            "\u001b[0;31mAssertionError\u001b[0m: "
          ]
        }
      ]
    },
    {
      "cell_type": "code",
      "source": [
        "def calcular_media(L):\n",
        "  z = sum(L)/len(L)\n",
        "  return z"
      ],
      "metadata": {
        "id": "7aLqPBt2I70N"
      },
      "execution_count": null,
      "outputs": []
    },
    {
      "cell_type": "code",
      "source": [
        "calcular_media([17, 19, 25, -2])"
      ],
      "metadata": {
        "colab": {
          "base_uri": "https://localhost:8080/"
        },
        "id": "S6dV2EXsJvU1",
        "outputId": "f518c6ad-f49f-4fed-d4a6-acce5224d355"
      },
      "execution_count": null,
      "outputs": [
        {
          "output_type": "execute_result",
          "data": {
            "text/plain": [
              "14.75"
            ]
          },
          "metadata": {},
          "execution_count": 16
        }
      ]
    },
    {
      "cell_type": "code",
      "source": [
        "assert(calcular_media([17, 19, 25, -2]) == 14.75)"
      ],
      "metadata": {
        "id": "nP_RFhPzJ-1Y"
      },
      "execution_count": null,
      "outputs": []
    }
  ]
}